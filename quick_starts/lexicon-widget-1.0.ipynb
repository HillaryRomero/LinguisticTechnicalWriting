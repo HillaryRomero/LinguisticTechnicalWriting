{
 "cells": [
  {
   "cell_type": "code",
   "execution_count": 1,
   "metadata": {
    "ExecuteTime": {
     "end_time": "2018-03-09T08:31:55.786150Z",
     "start_time": "2018-03-09T08:31:54.817943Z"
    },
    "hide_input": false
   },
   "outputs": [
    {
     "ename": "ModuleNotFoundError",
     "evalue": "No module named 'apiclient'",
     "output_type": "error",
     "traceback": [
      "\u001b[0;31m---------------------------------------------------------------------------\u001b[0m",
      "\u001b[0;31mModuleNotFoundError\u001b[0m                       Traceback (most recent call last)",
      "\u001b[0;32m<ipython-input-1-3a56dfb230c3>\u001b[0m in \u001b[0;36m<module>\u001b[0;34m\u001b[0m\n\u001b[1;32m      1\u001b[0m \u001b[0;32mimport\u001b[0m \u001b[0mos\u001b[0m\u001b[0;34m\u001b[0m\u001b[0;34m\u001b[0m\u001b[0m\n\u001b[0;32m----> 2\u001b[0;31m \u001b[0;32mfrom\u001b[0m \u001b[0mapiclient\u001b[0m \u001b[0;32mimport\u001b[0m \u001b[0mdiscovery\u001b[0m\u001b[0;34m\u001b[0m\u001b[0;34m\u001b[0m\u001b[0m\n\u001b[0m\u001b[1;32m      3\u001b[0m \u001b[0;32mfrom\u001b[0m \u001b[0moauth2client\u001b[0m \u001b[0;32mimport\u001b[0m \u001b[0mclient\u001b[0m\u001b[0;34m\u001b[0m\u001b[0;34m\u001b[0m\u001b[0m\n\u001b[1;32m      4\u001b[0m \u001b[0;32mfrom\u001b[0m \u001b[0moauth2client\u001b[0m\u001b[0;34m.\u001b[0m\u001b[0mfile\u001b[0m \u001b[0;32mimport\u001b[0m \u001b[0mStorage\u001b[0m\u001b[0;34m\u001b[0m\u001b[0;34m\u001b[0m\u001b[0m\n\u001b[1;32m      5\u001b[0m \u001b[0;32mimport\u001b[0m \u001b[0mhttplib2\u001b[0m\u001b[0;34m\u001b[0m\u001b[0;34m\u001b[0m\u001b[0m\n",
      "\u001b[0;31mModuleNotFoundError\u001b[0m: No module named 'apiclient'"
     ]
    }
   ],
   "source": [
    "import os\n",
    "from apiclient import discovery\n",
    "from oauth2client import client\n",
    "from oauth2client.file import Storage\n",
    "import httplib2\n",
    "from IPython.display import display\n",
    "from ipywidgets import widgets\n",
    "import plotly\n",
    "plotly.offline.init_notebook_mode()\n",
    "\n",
    "import webbrowser\n",
    "\n",
    "import urllib.request as Request\n",
    "from lxml import html\n",
    "\n",
    "from brat_widget.widget import Visualizer, Annotator\n",
    "from brat_widget.document import *\n",
    "from brat_widget.configuration import *"
   ]
  },
  {
   "cell_type": "code",
   "execution_count": 2,
   "metadata": {
    "ExecuteTime": {
     "end_time": "2018-03-09T08:31:57.025682Z",
     "start_time": "2018-03-09T08:31:55.787894Z"
    },
    "hide_input": false,
    "scrolled": true
   },
   "outputs": [
    {
     "ename": "ModuleNotFoundError",
     "evalue": "No module named 'common'",
     "output_type": "error",
     "traceback": [
      "\u001b[0;31m---------------------------------------------------------------------------\u001b[0m",
      "\u001b[0;31mModuleNotFoundError\u001b[0m                       Traceback (most recent call last)",
      "\u001b[0;32m<ipython-input-2-c908f2e394c4>\u001b[0m in \u001b[0;36m<module>\u001b[0;34m\u001b[0m\n\u001b[1;32m      6\u001b[0m     \u001b[0msys\u001b[0m\u001b[0;34m.\u001b[0m\u001b[0mpath\u001b[0m\u001b[0;34m.\u001b[0m\u001b[0mappend\u001b[0m\u001b[0;34m(\u001b[0m\u001b[0;34m'../ktt-common-0.9.2'\u001b[0m\u001b[0;34m)\u001b[0m\u001b[0;34m\u001b[0m\u001b[0;34m\u001b[0m\u001b[0m\n\u001b[1;32m      7\u001b[0m \u001b[0;34m\u001b[0m\u001b[0m\n\u001b[0;32m----> 8\u001b[0;31m \u001b[0;32mfrom\u001b[0m \u001b[0mcommon\u001b[0m\u001b[0;34m.\u001b[0m\u001b[0mfeatures\u001b[0m\u001b[0;34m.\u001b[0m\u001b[0mbasic_tokenizer\u001b[0m \u001b[0;32mimport\u001b[0m \u001b[0;34m*\u001b[0m\u001b[0;34m\u001b[0m\u001b[0;34m\u001b[0m\u001b[0m\n\u001b[0m\u001b[1;32m      9\u001b[0m \u001b[0;32mfrom\u001b[0m \u001b[0mcommon\u001b[0m\u001b[0;34m.\u001b[0m\u001b[0mfeatures\u001b[0m\u001b[0;34m.\u001b[0m\u001b[0mlexicon\u001b[0m \u001b[0;32mimport\u001b[0m \u001b[0;34m*\u001b[0m\u001b[0;34m\u001b[0m\u001b[0;34m\u001b[0m\u001b[0m\n\u001b[1;32m     10\u001b[0m \u001b[0;32mfrom\u001b[0m \u001b[0mcommon\u001b[0m\u001b[0;34m.\u001b[0m\u001b[0mfeatures\u001b[0m\u001b[0;34m.\u001b[0m\u001b[0mcorpus\u001b[0m \u001b[0;32mimport\u001b[0m \u001b[0;34m*\u001b[0m\u001b[0;34m\u001b[0m\u001b[0;34m\u001b[0m\u001b[0m\n",
      "\u001b[0;31mModuleNotFoundError\u001b[0m: No module named 'common'"
     ]
    }
   ],
   "source": [
    "current_dir = %pwd\n",
    "if 'mammut-transducer-ktt' in current_dir:\n",
    "    sys.path.append('../../common/')\n",
    "    sys.path.append('../../corpus/market/')\n",
    "elif 'mammut-deploy' in current_dir:\n",
    "    sys.path.append('../ktt-common-0.9.2')\n",
    "\n",
    "from common.features.basic_tokenizer import *\n",
    "from common.features.lexicon import *\n",
    "from common.features.corpus import *\n",
    "import common.features.google_api as ga\n",
    "from common.features.mammut_api import User, Gender, VerificationStatus, UserType\n",
    "from common.features.package import Package"
   ]
  },
  {
   "cell_type": "code",
   "execution_count": 3,
   "metadata": {},
   "outputs": [
    {
     "ename": "NameError",
     "evalue": "name 'User' is not defined",
     "output_type": "error",
     "traceback": [
      "\u001b[0;31m---------------------------------------------------------------------------\u001b[0m",
      "\u001b[0;31mNameError\u001b[0m                                 Traceback (most recent call last)",
      "\u001b[0;32m<ipython-input-3-5327641cbbbd>\u001b[0m in \u001b[0;36m<module>\u001b[0;34m\u001b[0m\n\u001b[1;32m     13\u001b[0m \u001b[0;34m\u001b[0m\u001b[0m\n\u001b[1;32m     14\u001b[0m \u001b[0;31m#usuario\u001b[0m\u001b[0;34m\u001b[0m\u001b[0;34m\u001b[0m\u001b[0;34m\u001b[0m\u001b[0m\n\u001b[0;32m---> 15\u001b[0;31m user = User('Edilmo', 'Palencia', 'MyNews', '+14086211255', 'edilmo@gmail.com', RegionalSettingsType.ES,\n\u001b[0m\u001b[1;32m     16\u001b[0m             \u001b[0mGender\u001b[0m\u001b[0;34m.\u001b[0m\u001b[0mmale\u001b[0m\u001b[0;34m,\u001b[0m\u001b[0;34m\u001b[0m\u001b[0;34m\u001b[0m\u001b[0m\n\u001b[1;32m     17\u001b[0m             \u001b[0mdatetime\u001b[0m\u001b[0;34m.\u001b[0m\u001b[0mdate\u001b[0m\u001b[0;34m(\u001b[0m\u001b[0;36m1980\u001b[0m\u001b[0;34m,\u001b[0m \u001b[0;36m5\u001b[0m\u001b[0;34m,\u001b[0m \u001b[0;36m21\u001b[0m\u001b[0;34m)\u001b[0m\u001b[0;34m,\u001b[0m \u001b[0mVerificationStatus\u001b[0m\u001b[0;34m.\u001b[0m\u001b[0mverified\u001b[0m\u001b[0;34m,\u001b[0m \u001b[0mUserType\u001b[0m\u001b[0;34m.\u001b[0m\u001b[0mmachine\u001b[0m\u001b[0;34m,\u001b[0m \u001b[0;34m'568829079'\u001b[0m\u001b[0;34m,\u001b[0m\u001b[0;34m\u001b[0m\u001b[0;34m\u001b[0m\u001b[0m\n",
      "\u001b[0;31mNameError\u001b[0m: name 'User' is not defined"
     ]
    }
   ],
   "source": [
    "# Excel temporal solo para pruebas:\n",
    "spreadsheet_id = '1fRSIW-2sNqk1J9MxAKSf_4i2zV1pS-5XuPZiii9LFLY'\n",
    "\n",
    "# Standar 4\n",
    "standard_spreadsheet_id = '1YZ_Nl3HZqAxxjDScBeXsjbN0iH2pqJjitdwbEP8VkhU'\n",
    "\n",
    "# Standar 4 (Copia)\n",
    "#standard_spreadsheet_id = '1cIA0_0MbLH8Al2CM0qS6ed_sJqU8nRHR3NwCWrcYMrQ'\n",
    "\n",
    "current_regional_settings_str = 'es'\n",
    "\n",
    "#base para el index que se genera\n",
    "\n",
    "#usuario\n",
    "user = User('Edilmo', 'Palencia', 'MyNews', '+14086211255', 'edilmo@gmail.com', RegionalSettingsType.ES,\n",
    "            Gender.male,\n",
    "            datetime.date(1980, 5, 21), VerificationStatus.verified, UserType.machine, '568829079',\n",
    "            'EAAFdHzdph0sBAFFSZC3DbZBOWdeJ2mtatqL4U83m7YQGD1nkD2Fnrm87AQynCyiAJ50MBLvGDiX4XqHf1gTYCyQ7rZAz0rFeVJqZAEPNh7ZBo6sIM94RYpbejLrZAZAOAH6pVbGWyCzD7vsAvHChlbxmMsIlP9ZAlZAznWfa7PlWNUwZDZD')"
   ]
  },
  {
   "cell_type": "code",
   "execution_count": 4,
   "metadata": {
    "ExecuteTime": {
     "end_time": "2018-03-09T08:33:02.119295Z",
     "start_time": "2018-03-09T08:31:57.040569Z"
    },
    "hide_input": true,
    "scrolled": true
   },
   "outputs": [
    {
     "ename": "NameError",
     "evalue": "name 'Package' is not defined",
     "output_type": "error",
     "traceback": [
      "\u001b[0;31m---------------------------------------------------------------------------\u001b[0m",
      "\u001b[0;31mNameError\u001b[0m                                 Traceback (most recent call last)",
      "\u001b[0;32m<ipython-input-4-5899780a464a>\u001b[0m in \u001b[0;36m<module>\u001b[0;34m\u001b[0m\n\u001b[0;32m----> 1\u001b[0;31m package = Package(spreadsheet_id,\n\u001b[0m\u001b[1;32m      2\u001b[0m                   \u001b[0mstandard_spreadsheet_id\u001b[0m\u001b[0;34m,\u001b[0m\u001b[0;34m\u001b[0m\u001b[0;34m\u001b[0m\u001b[0m\n\u001b[1;32m      3\u001b[0m                   user)\n",
      "\u001b[0;31mNameError\u001b[0m: name 'Package' is not defined"
     ]
    }
   ],
   "source": [
    "package = Package(spreadsheet_id,\n",
    "                  standard_spreadsheet_id,\n",
    "                  user)"
   ]
  },
  {
   "cell_type": "markdown",
   "metadata": {},
   "source": [
    "## Lexicalización\n",
    "\n",
    "### Recordatorios \n",
    "* Botón \"Reiniciar\" para borrar todo y empezar de nuevo.\n",
    "* Botón \"Buscar Lemma\" para buscar definiciones en distintas fuentes.\n",
    "* Pulsa sobre el nombre de la fuente para ver su contenido.\n",
    "* Fuentes de definiciones son limitadas por el idioma seleccionado.\n",
    "* Botón \"check\" para aplicar paradigma morfológico seleccionado.\n",
    "* Botón \"Concordancia\" para mostrar chequeo de concordancia dentro del lexicalization widget.\n",
    "* Botón \"Agregar Definiciones al final\" para agregar las definiciones al final del diccionario.\n",
    "* Botón \"Crear Diccionario nuevo\" para crear nuevo sheet con las nuevas definiciones al final.\n",
    "\n"
   ]
  },
  {
   "cell_type": "code",
   "execution_count": 5,
   "metadata": {
    "ExecuteTime": {
     "end_time": "2018-03-09T08:33:02.250288Z",
     "start_time": "2018-03-09T08:33:02.121141Z"
    }
   },
   "outputs": [
    {
     "ename": "NameError",
     "evalue": "name 'package' is not defined",
     "output_type": "error",
     "traceback": [
      "\u001b[0;31m---------------------------------------------------------------------------\u001b[0m",
      "\u001b[0;31mNameError\u001b[0m                                 Traceback (most recent call last)",
      "\u001b[0;32m<ipython-input-5-d8bcfc4cf366>\u001b[0m in \u001b[0;36m<module>\u001b[0;34m\u001b[0m\n\u001b[0;32m----> 1\u001b[0;31m \u001b[0mpackage\u001b[0m\u001b[0;34m.\u001b[0m\u001b[0mshow_lexicalization_widget\u001b[0m\u001b[0;34m(\u001b[0m\u001b[0;34m)\u001b[0m\u001b[0;34m\u001b[0m\u001b[0;34m\u001b[0m\u001b[0m\n\u001b[0m",
      "\u001b[0;31mNameError\u001b[0m: name 'package' is not defined"
     ]
    }
   ],
   "source": [
    "package.show_lexicalization_widget()"
   ]
  },
  {
   "cell_type": "markdown",
   "metadata": {},
   "source": [
    "NOTA:\n",
    "    \n",
    "- OVR: Out of vocabulary ratio (número de palabras fuera de vocabulario)\n",
    "- SPR: Semantic primes exponent ratio (número de palabras que son exponente de primitivos semánticos)"
   ]
  },
  {
   "cell_type": "markdown",
   "metadata": {},
   "source": [
    "## Palabras pendientes en el primer nivel"
   ]
  },
  {
   "cell_type": "markdown",
   "metadata": {},
   "source": [
    "Las palabras pendientes en el primer nivel son aquellas que estan siendo usadas directamente en alguna expresion del corpus. No incluye ninguna palabra que solo esta presente en definiciones."
   ]
  },
  {
   "cell_type": "code",
   "execution_count": 6,
   "metadata": {
    "ExecuteTime": {
     "end_time": "2018-03-09T08:33:02.305212Z",
     "start_time": "2018-03-09T08:33:02.252647Z"
    },
    "hide_input": false
   },
   "outputs": [
    {
     "ename": "NameError",
     "evalue": "name 'package' is not defined",
     "output_type": "error",
     "traceback": [
      "\u001b[0;31m---------------------------------------------------------------------------\u001b[0m",
      "\u001b[0;31mNameError\u001b[0m                                 Traceback (most recent call last)",
      "\u001b[0;32m<ipython-input-6-6e7656e23444>\u001b[0m in \u001b[0;36m<module>\u001b[0;34m\u001b[0m\n\u001b[0;32m----> 1\u001b[0;31m \u001b[0mpackage\u001b[0m\u001b[0;34m.\u001b[0m\u001b[0mget_pending_words_table\u001b[0m\u001b[0;34m(\u001b[0m\u001b[0mcurrent_regional_settings_str\u001b[0m\u001b[0;34m)\u001b[0m\u001b[0;34m\u001b[0m\u001b[0;34m\u001b[0m\u001b[0m\n\u001b[0m",
      "\u001b[0;31mNameError\u001b[0m: name 'package' is not defined"
     ]
    }
   ],
   "source": [
    "package.get_pending_words_table(current_regional_settings_str)"
   ]
  },
  {
   "cell_type": "markdown",
   "metadata": {},
   "source": [
    "## Palabras pendientes en el primer y segundo nivel"
   ]
  },
  {
   "cell_type": "markdown",
   "metadata": {
    "hide_input": true
   },
   "source": [
    "En la siguiente tabla estan todas las palabras presentes en el corpus y en la definicion de una palabra en el corpus. No incluye ninguna palabra que solo aparece en definiciones de definiciones.\n",
    "En caso de quererse incluir palabras del tercer o cuarto o cualquier otro nivel superior, basta con invocar la funcion de abajo pasando el valor adecuado en el segundo argumento de la funcion."
   ]
  },
  {
   "cell_type": "code",
   "execution_count": 7,
   "metadata": {
    "ExecuteTime": {
     "end_time": "2018-03-09T08:33:02.353728Z",
     "start_time": "2018-03-09T08:33:02.307463Z"
    },
    "hide_input": false
   },
   "outputs": [
    {
     "ename": "NameError",
     "evalue": "name 'package' is not defined",
     "output_type": "error",
     "traceback": [
      "\u001b[0;31m---------------------------------------------------------------------------\u001b[0m",
      "\u001b[0;31mNameError\u001b[0m                                 Traceback (most recent call last)",
      "\u001b[0;32m<ipython-input-7-0f288b14a77d>\u001b[0m in \u001b[0;36m<module>\u001b[0;34m\u001b[0m\n\u001b[0;32m----> 1\u001b[0;31m \u001b[0mpackage\u001b[0m\u001b[0;34m.\u001b[0m\u001b[0mget_pending_words_table\u001b[0m\u001b[0;34m(\u001b[0m\u001b[0mcurrent_regional_settings_str\u001b[0m\u001b[0;34m,\u001b[0m \u001b[0;36m1\u001b[0m\u001b[0;34m)\u001b[0m\u001b[0;34m\u001b[0m\u001b[0;34m\u001b[0m\u001b[0m\n\u001b[0m",
      "\u001b[0;31mNameError\u001b[0m: name 'package' is not defined"
     ]
    }
   ],
   "source": [
    "package.get_pending_words_table(current_regional_settings_str, 1)"
   ]
  },
  {
   "cell_type": "markdown",
   "metadata": {},
   "source": [
    "## Todas las palabras pendientes"
   ]
  },
  {
   "cell_type": "markdown",
   "metadata": {},
   "source": [
    "La proxima tabla incluye todas las palabras pendientes, indistintamente del nivel al que pertenecen."
   ]
  },
  {
   "cell_type": "code",
   "execution_count": 8,
   "metadata": {
    "ExecuteTime": {
     "end_time": "2018-03-09T08:33:02.398219Z",
     "start_time": "2018-03-09T08:33:02.355456Z"
    }
   },
   "outputs": [
    {
     "ename": "NameError",
     "evalue": "name 'package' is not defined",
     "output_type": "error",
     "traceback": [
      "\u001b[0;31m---------------------------------------------------------------------------\u001b[0m",
      "\u001b[0;31mNameError\u001b[0m                                 Traceback (most recent call last)",
      "\u001b[0;32m<ipython-input-8-9293cb6d09a2>\u001b[0m in \u001b[0;36m<module>\u001b[0;34m\u001b[0m\n\u001b[0;32m----> 1\u001b[0;31m \u001b[0mpackage\u001b[0m\u001b[0;34m.\u001b[0m\u001b[0mget_all_pending_words_table\u001b[0m\u001b[0;34m(\u001b[0m\u001b[0mcurrent_regional_settings_str\u001b[0m\u001b[0;34m)\u001b[0m\u001b[0;34m\u001b[0m\u001b[0;34m\u001b[0m\u001b[0m\n\u001b[0m",
      "\u001b[0;31mNameError\u001b[0m: name 'package' is not defined"
     ]
    }
   ],
   "source": [
    "package.get_all_pending_words_table(current_regional_settings_str)"
   ]
  },
  {
   "cell_type": "markdown",
   "metadata": {
    "ExecuteTime": {
     "end_time": "2018-01-08T19:24:57.241828Z",
     "start_time": "2018-01-08T19:24:57.238122Z"
    }
   },
   "source": [
    "## Estadisticas varias del proceso de lexicalizacion"
   ]
  },
  {
   "cell_type": "code",
   "execution_count": 9,
   "metadata": {
    "ExecuteTime": {
     "end_time": "2018-03-09T08:33:02.406914Z",
     "start_time": "2018-03-09T08:33:02.400833Z"
    },
    "hide_input": true
   },
   "outputs": [
    {
     "ename": "NameError",
     "evalue": "name 'package' is not defined",
     "output_type": "error",
     "traceback": [
      "\u001b[0;31m---------------------------------------------------------------------------\u001b[0m",
      "\u001b[0;31mNameError\u001b[0m                                 Traceback (most recent call last)",
      "\u001b[0;32m<ipython-input-9-ac8ff08a89ed>\u001b[0m in \u001b[0;36m<module>\u001b[0;34m\u001b[0m\n\u001b[0;32m----> 1\u001b[0;31m \u001b[0mlexicalization_stats\u001b[0m \u001b[0;34m=\u001b[0m \u001b[0mpackage\u001b[0m\u001b[0;34m.\u001b[0m\u001b[0mget_lexicalization_statistics\u001b[0m\u001b[0;34m(\u001b[0m\u001b[0mcurrent_regional_settings_str\u001b[0m\u001b[0;34m)\u001b[0m\u001b[0;34m\u001b[0m\u001b[0;34m\u001b[0m\u001b[0m\n\u001b[0m",
      "\u001b[0;31mNameError\u001b[0m: name 'package' is not defined"
     ]
    }
   ],
   "source": [
    "lexicalization_stats = package.get_lexicalization_statistics(current_regional_settings_str)"
   ]
  },
  {
   "cell_type": "markdown",
   "metadata": {},
   "source": [
    "__Generales__  \n",
    "\n",
    "    - Cantidad de Lemmas en el diccionario: {{lexicalization_stats.lemmas_count}}\n",
    "    - Cantidad de Morphemes en el diccionario: {{lexicalization_stats.morphemes_count}}\n",
    "    - Cantidad de Definiciones en el diccionario: {{lexicalization_stats.definitions_count}}  \n",
    "    - Cantidad de Palabras diferentes: {{lexicalization_stats.words_count}}\n",
    "    - Cantidad de Palabras sin definicion en el diccionario: {{lexicalization_stats.undefined_words_count}}"
   ]
  },
  {
   "cell_type": "code",
   "execution_count": 10,
   "metadata": {
    "ExecuteTime": {
     "end_time": "2018-03-09T08:33:02.451889Z",
     "start_time": "2018-03-09T08:33:02.428905Z"
    }
   },
   "outputs": [
    {
     "ename": "NameError",
     "evalue": "name 'package' is not defined",
     "output_type": "error",
     "traceback": [
      "\u001b[0;31m---------------------------------------------------------------------------\u001b[0m",
      "\u001b[0;31mNameError\u001b[0m                                 Traceback (most recent call last)",
      "\u001b[0;32m<ipython-input-10-913f33c2921a>\u001b[0m in \u001b[0;36m<module>\u001b[0;34m\u001b[0m\n\u001b[0;32m----> 1\u001b[0;31m \u001b[0mpackage\u001b[0m\u001b[0;34m.\u001b[0m\u001b[0mshow_lexicalization_evolution\u001b[0m\u001b[0;34m(\u001b[0m\u001b[0mcurrent_regional_settings_str\u001b[0m\u001b[0;34m)\u001b[0m\u001b[0;34m\u001b[0m\u001b[0;34m\u001b[0m\u001b[0m\n\u001b[0m",
      "\u001b[0;31mNameError\u001b[0m: name 'package' is not defined"
     ]
    }
   ],
   "source": [
    "package.show_lexicalization_evolution(current_regional_settings_str)"
   ]
  },
  {
   "cell_type": "markdown",
   "metadata": {},
   "source": [
    "## Palabras funcionales no modeladas"
   ]
  },
  {
   "cell_type": "code",
   "execution_count": 11,
   "metadata": {
    "ExecuteTime": {
     "end_time": "2018-03-09T08:33:02.475013Z",
     "start_time": "2018-03-09T08:33:02.453611Z"
    }
   },
   "outputs": [
    {
     "ename": "NameError",
     "evalue": "name 'package' is not defined",
     "output_type": "error",
     "traceback": [
      "\u001b[0;31m---------------------------------------------------------------------------\u001b[0m",
      "\u001b[0;31mNameError\u001b[0m                                 Traceback (most recent call last)",
      "\u001b[0;32m<ipython-input-11-2c4c7c735b8c>\u001b[0m in \u001b[0;36m<module>\u001b[0;34m\u001b[0m\n\u001b[0;32m----> 1\u001b[0;31m \u001b[0mpackage\u001b[0m\u001b[0;34m.\u001b[0m\u001b[0mget_undefined_functionals_table\u001b[0m\u001b[0;34m(\u001b[0m\u001b[0mcurrent_regional_settings_str\u001b[0m\u001b[0;34m)\u001b[0m\u001b[0;34m\u001b[0m\u001b[0;34m\u001b[0m\u001b[0m\n\u001b[0m",
      "\u001b[0;31mNameError\u001b[0m: name 'package' is not defined"
     ]
    }
   ],
   "source": [
    "package.get_undefined_functionals_table(current_regional_settings_str)"
   ]
  },
  {
   "cell_type": "markdown",
   "metadata": {
    "ExecuteTime": {
     "end_time": "2018-01-09T23:40:25.202735Z",
     "start_time": "2018-01-09T23:40:25.199250Z"
    }
   },
   "source": [
    "## Palabras presentes en definiciones pero fuera de vocabulario"
   ]
  },
  {
   "cell_type": "markdown",
   "metadata": {
    "ExecuteTime": {
     "end_time": "2018-01-09T22:45:29.626875Z",
     "start_time": "2018-01-09T22:45:29.622507Z"
    }
   },
   "source": [
    "Para el framework una palabra se considera fuera de vocabulario si no esta presente ni en el corpus anotable, ni en el listado de palabras funcionales y no-funcionales del Standard."
   ]
  },
  {
   "cell_type": "code",
   "execution_count": 12,
   "metadata": {
    "ExecuteTime": {
     "end_time": "2018-03-09T08:33:03.460769Z",
     "start_time": "2018-03-09T08:33:02.476445Z"
    },
    "hide_input": true
   },
   "outputs": [
    {
     "ename": "NameError",
     "evalue": "name 'package' is not defined",
     "output_type": "error",
     "traceback": [
      "\u001b[0;31m---------------------------------------------------------------------------\u001b[0m",
      "\u001b[0;31mNameError\u001b[0m                                 Traceback (most recent call last)",
      "\u001b[0;32m<ipython-input-12-f79c6a954b7d>\u001b[0m in \u001b[0;36m<module>\u001b[0;34m\u001b[0m\n\u001b[0;32m----> 1\u001b[0;31m \u001b[0mpackage\u001b[0m\u001b[0;34m.\u001b[0m\u001b[0mget_words_in_definitions_out_of_vocabulary_table\u001b[0m\u001b[0;34m(\u001b[0m\u001b[0mcurrent_regional_settings_str\u001b[0m\u001b[0;34m)\u001b[0m\u001b[0;34m\u001b[0m\u001b[0;34m\u001b[0m\u001b[0m\n\u001b[0m",
      "\u001b[0;31mNameError\u001b[0m: name 'package' is not defined"
     ]
    }
   ],
   "source": [
    "package.get_words_in_definitions_out_of_vocabulary_table(current_regional_settings_str)"
   ]
  },
  {
   "cell_type": "markdown",
   "metadata": {
    "ExecuteTime": {
     "end_time": "2018-01-09T23:40:25.202735Z",
     "start_time": "2018-01-09T23:40:25.199250Z"
    }
   },
   "source": [
    "## Lemas lexicalizados"
   ]
  },
  {
   "cell_type": "code",
   "execution_count": 13,
   "metadata": {
    "ExecuteTime": {
     "end_time": "2018-03-09T08:33:03.492708Z",
     "start_time": "2018-03-09T08:33:03.462965Z"
    },
    "hide_input": true
   },
   "outputs": [
    {
     "ename": "NameError",
     "evalue": "name 'package' is not defined",
     "output_type": "error",
     "traceback": [
      "\u001b[0;31m---------------------------------------------------------------------------\u001b[0m",
      "\u001b[0;31mNameError\u001b[0m                                 Traceback (most recent call last)",
      "\u001b[0;32m<ipython-input-13-896dd5ad8e6b>\u001b[0m in \u001b[0;36m<module>\u001b[0;34m\u001b[0m\n\u001b[0;32m----> 1\u001b[0;31m \u001b[0mpackage\u001b[0m\u001b[0;34m.\u001b[0m\u001b[0mshow_defined_lemmas\u001b[0m\u001b[0;34m(\u001b[0m\u001b[0;34m'2018/05/01'\u001b[0m\u001b[0;34m)\u001b[0m\u001b[0;34m\u001b[0m\u001b[0;34m\u001b[0m\u001b[0m\n\u001b[0m",
      "\u001b[0;31mNameError\u001b[0m: name 'package' is not defined"
     ]
    }
   ],
   "source": [
    "package.show_defined_lemmas('2018/05/01')"
   ]
  },
  {
   "cell_type": "markdown",
   "metadata": {},
   "source": [
    "## Palabras listas en el primer nivel"
   ]
  },
  {
   "cell_type": "code",
   "execution_count": 14,
   "metadata": {},
   "outputs": [
    {
     "ename": "NameError",
     "evalue": "name 'package' is not defined",
     "output_type": "error",
     "traceback": [
      "\u001b[0;31m---------------------------------------------------------------------------\u001b[0m",
      "\u001b[0;31mNameError\u001b[0m                                 Traceback (most recent call last)",
      "\u001b[0;32m<ipython-input-14-efea0be7140f>\u001b[0m in \u001b[0;36m<module>\u001b[0;34m\u001b[0m\n\u001b[0;32m----> 1\u001b[0;31m \u001b[0mpackage\u001b[0m\u001b[0;34m.\u001b[0m\u001b[0mget_ready_words_table\u001b[0m\u001b[0;34m(\u001b[0m\u001b[0mcurrent_regional_settings_str\u001b[0m\u001b[0;34m)\u001b[0m\u001b[0;34m\u001b[0m\u001b[0;34m\u001b[0m\u001b[0m\n\u001b[0m",
      "\u001b[0;31mNameError\u001b[0m: name 'package' is not defined"
     ]
    }
   ],
   "source": [
    "package.get_ready_words_table(current_regional_settings_str)"
   ]
  },
  {
   "cell_type": "markdown",
   "metadata": {},
   "source": [
    "## Palabras listas en el primer y segundo nivel"
   ]
  },
  {
   "cell_type": "code",
   "execution_count": 15,
   "metadata": {},
   "outputs": [
    {
     "ename": "NameError",
     "evalue": "name 'package' is not defined",
     "output_type": "error",
     "traceback": [
      "\u001b[0;31m---------------------------------------------------------------------------\u001b[0m",
      "\u001b[0;31mNameError\u001b[0m                                 Traceback (most recent call last)",
      "\u001b[0;32m<ipython-input-15-8772a087b2c6>\u001b[0m in \u001b[0;36m<module>\u001b[0;34m\u001b[0m\n\u001b[0;32m----> 1\u001b[0;31m \u001b[0mpackage\u001b[0m\u001b[0;34m.\u001b[0m\u001b[0mget_ready_words_table\u001b[0m\u001b[0;34m(\u001b[0m\u001b[0mcurrent_regional_settings_str\u001b[0m\u001b[0;34m,\u001b[0m \u001b[0;36m1\u001b[0m\u001b[0;34m)\u001b[0m\u001b[0;34m\u001b[0m\u001b[0;34m\u001b[0m\u001b[0m\n\u001b[0m",
      "\u001b[0;31mNameError\u001b[0m: name 'package' is not defined"
     ]
    }
   ],
   "source": [
    "package.get_ready_words_table(current_regional_settings_str, 1)"
   ]
  },
  {
   "cell_type": "markdown",
   "metadata": {},
   "source": [
    "## Todas las palabras listas"
   ]
  },
  {
   "cell_type": "code",
   "execution_count": 16,
   "metadata": {},
   "outputs": [
    {
     "ename": "NameError",
     "evalue": "name 'package' is not defined",
     "output_type": "error",
     "traceback": [
      "\u001b[0;31m---------------------------------------------------------------------------\u001b[0m",
      "\u001b[0;31mNameError\u001b[0m                                 Traceback (most recent call last)",
      "\u001b[0;32m<ipython-input-16-cd795dbf72f9>\u001b[0m in \u001b[0;36m<module>\u001b[0;34m\u001b[0m\n\u001b[0;32m----> 1\u001b[0;31m \u001b[0mpackage\u001b[0m\u001b[0;34m.\u001b[0m\u001b[0mget_all_ready_words_table\u001b[0m\u001b[0;34m(\u001b[0m\u001b[0mcurrent_regional_settings_str\u001b[0m\u001b[0;34m)\u001b[0m\u001b[0;34m\u001b[0m\u001b[0;34m\u001b[0m\u001b[0m\n\u001b[0m",
      "\u001b[0;31mNameError\u001b[0m: name 'package' is not defined"
     ]
    }
   ],
   "source": [
    "package.get_all_ready_words_table(current_regional_settings_str)"
   ]
  },
  {
   "cell_type": "markdown",
   "metadata": {},
   "source": [
    "## Concordancia de un lema"
   ]
  },
  {
   "cell_type": "code",
   "execution_count": 17,
   "metadata": {},
   "outputs": [
    {
     "ename": "NameError",
     "evalue": "name 'package' is not defined",
     "output_type": "error",
     "traceback": [
      "\u001b[0;31m---------------------------------------------------------------------------\u001b[0m",
      "\u001b[0;31mNameError\u001b[0m                                 Traceback (most recent call last)",
      "\u001b[0;32m<ipython-input-17-874de77e5553>\u001b[0m in \u001b[0;36m<module>\u001b[0;34m\u001b[0m\n\u001b[0;32m----> 1\u001b[0;31m \u001b[0mpackage\u001b[0m\u001b[0;34m.\u001b[0m\u001b[0mcheck_concordance_for_lemma\u001b[0m\u001b[0;34m(\u001b[0m\u001b[0;34m\"poder\"\u001b[0m\u001b[0;34m)\u001b[0m\u001b[0;34m\u001b[0m\u001b[0;34m\u001b[0m\u001b[0m\n\u001b[0m",
      "\u001b[0;31mNameError\u001b[0m: name 'package' is not defined"
     ]
    }
   ],
   "source": [
    "package.check_concordance_for_lemma(\"poder\")"
   ]
  },
  {
   "cell_type": "code",
   "execution_count": null,
   "metadata": {},
   "outputs": [],
   "source": []
  },
  {
   "cell_type": "code",
   "execution_count": null,
   "metadata": {},
   "outputs": [],
   "source": []
  }
 ],
 "metadata": {
  "hide_input": false,
  "kernelspec": {
   "display_name": "Python 3",
   "language": "python",
   "name": "python3"
  },
  "latex_envs": {
   "LaTeX_envs_menu_present": true,
   "autocomplete": true,
   "bibliofile": "biblio.bib",
   "cite_by": "apalike",
   "current_citInitial": 1,
   "eqLabelWithNumbers": true,
   "eqNumInitial": 1,
   "hotkeys": {
    "equation": "Ctrl-E",
    "itemize": "Ctrl-I"
   },
   "labels_anchors": false,
   "latex_user_defs": false,
   "report_style_numbering": false,
   "user_envs_cfg": false
  },
  "toc": {
   "base_numbering": 1,
   "nav_menu": {
    "height": "12px",
    "width": "252px"
   },
   "number_sections": true,
   "sideBar": true,
   "skip_h1_title": false,
   "title_cell": "Table of Contents",
   "title_sidebar": "Contents",
   "toc_cell": false,
   "toc_position": {},
   "toc_section_display": "block",
   "toc_window_display": false
  }
 },
 "nbformat": 4,
 "nbformat_minor": 2
}
